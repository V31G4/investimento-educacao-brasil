{
 "cells": [
  {
   "cell_type": "markdown",
   "metadata": {
    "application/vnd.databricks.v1+cell": {
     "cellMetadata": {},
     "inputWidgets": {},
     "nuid": "96816ed7-b08a-4ca3-abb9-f99880c3535d",
     "showTitle": false,
     "tableResultSettingsMap": {},
     "title": ""
    }
   },
   "source": [
    "\n",
    "## Overview\n",
    "\n",
    "This notebook will show you how to create and query a table or DataFrame that you uploaded to DBFS. [DBFS](https://docs.databricks.com/user-guide/dbfs-databricks-file-system.html) is a Databricks File System that allows you to store data for querying inside of Databricks. This notebook assumes that you have a file already inside of DBFS that you would like to read from.\n",
    "\n",
    "This notebook is written in **Python** so the default cell type is Python. However, you can use different languages by using the `%LANGUAGE` syntax. Python, Scala, SQL, and R are all supported."
   ]
  },
  {
   "cell_type": "code",
   "execution_count": 0,
   "metadata": {
    "application/vnd.databricks.v1+cell": {
     "cellMetadata": {
      "byteLimit": 2048000,
      "rowLimit": 10000
     },
     "inputWidgets": {},
     "nuid": "6482be4c-f067-47c9-b0ac-35c938b94601",
     "showTitle": false,
     "tableResultSettingsMap": {},
     "title": ""
    }
   },
   "outputs": [
    {
     "output_type": "display_data",
     "data": {
      "text/html": [
       "<style scoped>\n",
       "  .table-result-container {\n",
       "    max-height: 300px;\n",
       "    overflow: auto;\n",
       "  }\n",
       "  table, th, td {\n",
       "    border: 1px solid black;\n",
       "    border-collapse: collapse;\n",
       "  }\n",
       "  th, td {\n",
       "    padding: 5px;\n",
       "  }\n",
       "  th {\n",
       "    text-align: left;\n",
       "  }\n",
       "</style><div class='table-result-container'><table class='table-result'><thead style='background-color: white'><tr><th>_c0</th><th>_c1</th><th>_c2</th><th>_c3</th><th>_c4</th><th>_c5</th><th>_c6</th><th>_c7</th></tr></thead><tbody><tr><td>Ano</td><td>Todos os Níveis de Ensino</td><td>Níveis de Ensino</td><td>null</td><td>null</td><td>null</td><td>null</td><td>null</td></tr><tr><td>null</td><td>null</td><td>Educação Básica</td><td>Educação Infantil</td><td>Ensino Fundamental</td><td>null</td><td>Ensino Médio</td><td> Educação Superior </td></tr><tr><td>null</td><td>null</td><td>null</td><td>null</td><td>De 1ª a 4ª  Séries ou Anos Iniciais</td><td>De 5ª a 8ª  Séries ou Anos Finais</td><td>null</td><td>null</td></tr><tr><td>2000</td><td>100.0</td><td>79.9</td><td>8.4</td><td>32.2</td><td>26.2</td><td>13.2</td><td>20.1</td></tr><tr><td>2001</td><td>100.0</td><td>80.4</td><td>7.8</td><td>30.1</td><td>27.0</td><td>15.4</td><td>19.6</td></tr><tr><td>2002</td><td>100.0</td><td>79.6</td><td>7.4</td><td>34.7</td><td>26.9</td><td>10.6</td><td>20.4</td></tr><tr><td>2003</td><td>100.0</td><td>80.6</td><td>8.5</td><td>33.2</td><td>26.5</td><td>12.3</td><td>19.4</td></tr><tr><td>2004</td><td>100.0</td><td>81.7</td><td>8.9</td><td>34.2</td><td>27.4</td><td>11.2</td><td>18.3</td></tr><tr><td>2005</td><td>100.0</td><td>80.8</td><td>8.2</td><td>33.9</td><td>27.6</td><td>11.1</td><td>19.2</td></tr><tr><td>2006</td><td>100.0</td><td>83.3</td><td>7.5</td><td>32.0</td><td>30.7</td><td>13.1</td><td>16.7</td></tr><tr><td>2007</td><td>100.0</td><td>83.2</td><td>7.9</td><td>31.9</td><td>29.9</td><td>13.5</td><td>16.8</td></tr><tr><td>2008</td><td>100.0</td><td>84.1</td><td>7.6</td><td>31.9</td><td>30.7</td><td>13.9</td><td>15.9</td></tr><tr><td>2009</td><td>100.0</td><td>83.8</td><td>7.0</td><td>32.3</td><td>31.0</td><td>13.5</td><td>16.2</td></tr><tr><td>2010</td><td>100.0</td><td>83.6</td><td>7.6</td><td>31.3</td><td>29.7</td><td>14.9</td><td>16.4</td></tr><tr><td>2011</td><td>100.0</td><td>82.4</td><td>8.7</td><td>29.0</td><td>27.3</td><td>17.4</td><td>17.6</td></tr><tr><td>2012</td><td>100.0</td><td>82.7</td><td>10.0</td><td>28.6</td><td>25.9</td><td>18.2</td><td>17.3</td></tr><tr><td>2013</td><td>100.0</td><td>81.8</td><td>10.5</td><td>27.4</td><td>25.5</td><td>18.5</td><td>18.2</td></tr><tr><td>2014</td><td>100.0</td><td>80.7</td><td>10.8</td><td>26.8</td><td>24.3</td><td>18.8</td><td>19.3</td></tr><tr><td>2015</td><td>100.0</td><td>78.5</td><td>11.6</td><td>25.6</td><td>23.0</td><td>18.4</td><td>21.5</td></tr><tr><td>2016</td><td>100.0</td><td>78.1</td><td>11.7</td><td>25.7</td><td>22.0</td><td>18.7</td><td>21.9</td></tr><tr><td>2017</td><td>100.0</td><td>76.0</td><td>11.2</td><td>24.9</td><td>21.0</td><td>18.8</td><td>24.0</td></tr><tr><td>2018</td><td>100.0</td><td>77.4</td><td>12.3</td><td>25.2</td><td>21.3</td><td>18.6</td><td>22.6</td></tr><tr><td>2019</td><td>100.0</td><td>77.6</td><td>12.7</td><td>25.5</td><td>21.4</td><td>18.0</td><td>22.4</td></tr><tr><td>2020</td><td>100.0</td><td>79.6</td><td>16.5</td><td>23.8</td><td>21.8</td><td>17.4</td><td>20.4</td></tr><tr><td>2021</td><td>100.0</td><td>81.4</td><td>17.0</td><td>24.1</td><td>22.1</td><td>18.2</td><td>18.6</td></tr><tr><td>null</td><td>null</td><td>null</td><td>null</td><td>null</td><td>null</td><td>null</td><td>null</td></tr><tr><td>Fonte: Inep/MEC - Tabela elaborada pela Deed/Inep.</td><td>null</td><td>null</td><td>null</td><td>null</td><td>null</td><td>null</td><td>null</td></tr><tr><td>Notas: \n",
       "</td><td>null</td><td>null</td><td>null</td><td>null</td><td>null</td><td>null</td><td>null</td></tr><tr><td>1 - Utilizaram-se os seguintes grupos de Natureza de Despesa: Pessoal Ativo e Encargos Sociais (inclusive</td><td> a estimativa para complemento da aposentadoria futura do pessoal ativo)</td><td> outras Despesas Correntes</td><td> Investimentos e Inversões Financeiras;</td><td>null</td><td>null</td><td>null</td><td>null</td></tr><tr><td>2 - Estão computados nos cálculos os recursos para bolsa de estudo</td><td> financiamento estudantil e a modalidade de aplicação: Transferências Correntes e de Capital ao Setor Privado;</td><td>null</td><td>null</td><td>null</td><td>null</td><td>null</td><td>null</td></tr><tr><td>3 - Os investimentos em Educação Especial</td><td> Educação de Jovens e Adultos e Educação Indígena foram distribuídos na Educação Infantil</td><td> no Ensino Fundamental anos iniciais e anos finais e no Ensino Médio</td><td> dependendo do nível de ensino ao qual fazem referência. No Ensino Médio estão computados os valores da Educação Profissional (concomitante</td><td> subsequente e integrado);</td><td>null</td><td>null</td><td>null</td></tr><tr><td>4 - A Educação Superior corresponde aos cursos superiores em Tecnologia</td><td> demais cursos de Graduação (Presencial e a distância) (exceto cursos sequenciais) e cursos de pós-graduação Stricto Sensu - Mestrado</td><td> Mestrado Profissional e Doutorado (excetuando-se as especializações Lato Sensu);</td><td>null</td><td>null</td><td>null</td><td>null</td><td>null</td></tr><tr><td>5 - Estes dados referem-se aos investimentos em educação consolidados do Governo Federal</td><td> dos Estados e do Distrito Federal e dos Municípios;</td><td>null</td><td>null</td><td>null</td><td>null</td><td>null</td><td>null</td></tr><tr><td>6 - Para os anos de 2000 a 2003</td><td> estão contabilizados na área educacional</td><td> os valores despendidos pelo Governo Federal para o Programa Bolsa-Escola;</td><td>null</td><td>null</td><td>null</td><td>null</td><td>null</td></tr><tr><td>7 - Entre os anos de 2000 e 2005: para os dados estaduais</td><td> foi utilizada como fonte de informações</td><td> um trabalho técnico realizado pelo Inep diretamente dos balanços financeiros de cada estado; para os dados municipais do mesmo período</td><td> utilizou-se uma metodologia baseada no percentual mínimo de aplicação de cada município</td><td> definido pela legislação vigente;</td><td>null</td><td>null</td><td>null</td></tr><tr><td>8 - A partir de 2006</td><td> utilizaram-se como fontes de dados estaduais e municipais</td><td> o Sistema de Informações sobre Orçamento Público em Educação - Siope -</td><td> administrado pelo Fundo Nacional de Desenvolvimento da Educação - FNDE;</td><td>null</td><td>null</td><td>null</td><td>null</td></tr><tr><td>9 - Os dados da União foram coletados do Sistema Integrado de Administração Financeira - Siafi/STN - para todos os anos;</td><td>null</td><td>null</td><td>null</td><td>null</td><td>null</td><td>null</td><td>null</td></tr><tr><td>10 - Para o cálculo dos valores de Investimentos Públicos em Educação</td><td> utilizaram-se  as seguintes fontes de dados primários:</td><td>null</td><td>null</td><td>null</td><td>null</td><td>null</td><td>null</td></tr><tr><td>- Instituto Nacional de Estudos e Pesquisas Educacionais Anísio Teixeira - Inep/MEC; - Secretaria do Tesouro Nacional (STN); - FNDE; - Balanço Geral dos Estados e do Distrito Federal; - Coordenação de Aperfeiçoamento de Pessoal de Nível Superior (Capes); - Instituto de Pesquisa Econômica Aplicada (Ipea); - Instituto Brasileiro de Geografia e Estatística (IBGE); - Caixa Econômica Federal (CEF); - Conselho Nacional de Desenvolvimento Científico e Tecnológico (CNPq).\"</td><td>null</td><td>null</td><td>null</td><td>null</td><td>null</td><td>null</td><td>null</td></tr></tbody></table></div>"
      ]
     },
     "metadata": {
      "application/vnd.databricks.v1+output": {
       "addedWidgets": {},
       "aggData": [],
       "aggError": "",
       "aggOverflow": false,
       "aggSchema": [],
       "aggSeriesLimitReached": false,
       "aggType": "",
       "arguments": {},
       "columnCustomDisplayInfos": {},
       "data": [
        [
         "Ano",
         "Todos os Níveis de Ensino",
         "Níveis de Ensino",
         null,
         null,
         null,
         null,
         null
        ],
        [
         null,
         null,
         "Educação Básica",
         "Educação Infantil",
         "Ensino Fundamental",
         null,
         "Ensino Médio",
         " Educação Superior "
        ],
        [
         null,
         null,
         null,
         null,
         "De 1ª a 4ª  Séries ou Anos Iniciais",
         "De 5ª a 8ª  Séries ou Anos Finais",
         null,
         null
        ],
        [
         "2000",
         "100.0",
         "79.9",
         "8.4",
         "32.2",
         "26.2",
         "13.2",
         "20.1"
        ],
        [
         "2001",
         "100.0",
         "80.4",
         "7.8",
         "30.1",
         "27.0",
         "15.4",
         "19.6"
        ],
        [
         "2002",
         "100.0",
         "79.6",
         "7.4",
         "34.7",
         "26.9",
         "10.6",
         "20.4"
        ],
        [
         "2003",
         "100.0",
         "80.6",
         "8.5",
         "33.2",
         "26.5",
         "12.3",
         "19.4"
        ],
        [
         "2004",
         "100.0",
         "81.7",
         "8.9",
         "34.2",
         "27.4",
         "11.2",
         "18.3"
        ],
        [
         "2005",
         "100.0",
         "80.8",
         "8.2",
         "33.9",
         "27.6",
         "11.1",
         "19.2"
        ],
        [
         "2006",
         "100.0",
         "83.3",
         "7.5",
         "32.0",
         "30.7",
         "13.1",
         "16.7"
        ],
        [
         "2007",
         "100.0",
         "83.2",
         "7.9",
         "31.9",
         "29.9",
         "13.5",
         "16.8"
        ],
        [
         "2008",
         "100.0",
         "84.1",
         "7.6",
         "31.9",
         "30.7",
         "13.9",
         "15.9"
        ],
        [
         "2009",
         "100.0",
         "83.8",
         "7.0",
         "32.3",
         "31.0",
         "13.5",
         "16.2"
        ],
        [
         "2010",
         "100.0",
         "83.6",
         "7.6",
         "31.3",
         "29.7",
         "14.9",
         "16.4"
        ],
        [
         "2011",
         "100.0",
         "82.4",
         "8.7",
         "29.0",
         "27.3",
         "17.4",
         "17.6"
        ],
        [
         "2012",
         "100.0",
         "82.7",
         "10.0",
         "28.6",
         "25.9",
         "18.2",
         "17.3"
        ],
        [
         "2013",
         "100.0",
         "81.8",
         "10.5",
         "27.4",
         "25.5",
         "18.5",
         "18.2"
        ],
        [
         "2014",
         "100.0",
         "80.7",
         "10.8",
         "26.8",
         "24.3",
         "18.8",
         "19.3"
        ],
        [
         "2015",
         "100.0",
         "78.5",
         "11.6",
         "25.6",
         "23.0",
         "18.4",
         "21.5"
        ],
        [
         "2016",
         "100.0",
         "78.1",
         "11.7",
         "25.7",
         "22.0",
         "18.7",
         "21.9"
        ],
        [
         "2017",
         "100.0",
         "76.0",
         "11.2",
         "24.9",
         "21.0",
         "18.8",
         "24.0"
        ],
        [
         "2018",
         "100.0",
         "77.4",
         "12.3",
         "25.2",
         "21.3",
         "18.6",
         "22.6"
        ],
        [
         "2019",
         "100.0",
         "77.6",
         "12.7",
         "25.5",
         "21.4",
         "18.0",
         "22.4"
        ],
        [
         "2020",
         "100.0",
         "79.6",
         "16.5",
         "23.8",
         "21.8",
         "17.4",
         "20.4"
        ],
        [
         "2021",
         "100.0",
         "81.4",
         "17.0",
         "24.1",
         "22.1",
         "18.2",
         "18.6"
        ],
        [
         null,
         null,
         null,
         null,
         null,
         null,
         null,
         null
        ],
        [
         "Fonte: Inep/MEC - Tabela elaborada pela Deed/Inep.",
         null,
         null,
         null,
         null,
         null,
         null,
         null
        ],
        [
         "Notas: \n",
         null,
         null,
         null,
         null,
         null,
         null,
         null
        ],
        [
         "1 - Utilizaram-se os seguintes grupos de Natureza de Despesa: Pessoal Ativo e Encargos Sociais (inclusive",
         " a estimativa para complemento da aposentadoria futura do pessoal ativo)",
         " outras Despesas Correntes",
         " Investimentos e Inversões Financeiras;",
         null,
         null,
         null,
         null
        ],
        [
         "2 - Estão computados nos cálculos os recursos para bolsa de estudo",
         " financiamento estudantil e a modalidade de aplicação: Transferências Correntes e de Capital ao Setor Privado;",
         null,
         null,
         null,
         null,
         null,
         null
        ],
        [
         "3 - Os investimentos em Educação Especial",
         " Educação de Jovens e Adultos e Educação Indígena foram distribuídos na Educação Infantil",
         " no Ensino Fundamental anos iniciais e anos finais e no Ensino Médio",
         " dependendo do nível de ensino ao qual fazem referência. No Ensino Médio estão computados os valores da Educação Profissional (concomitante",
         " subsequente e integrado);",
         null,
         null,
         null
        ],
        [
         "4 - A Educação Superior corresponde aos cursos superiores em Tecnologia",
         " demais cursos de Graduação (Presencial e a distância) (exceto cursos sequenciais) e cursos de pós-graduação Stricto Sensu - Mestrado",
         " Mestrado Profissional e Doutorado (excetuando-se as especializações Lato Sensu);",
         null,
         null,
         null,
         null,
         null
        ],
        [
         "5 - Estes dados referem-se aos investimentos em educação consolidados do Governo Federal",
         " dos Estados e do Distrito Federal e dos Municípios;",
         null,
         null,
         null,
         null,
         null,
         null
        ],
        [
         "6 - Para os anos de 2000 a 2003",
         " estão contabilizados na área educacional",
         " os valores despendidos pelo Governo Federal para o Programa Bolsa-Escola;",
         null,
         null,
         null,
         null,
         null
        ],
        [
         "7 - Entre os anos de 2000 e 2005: para os dados estaduais",
         " foi utilizada como fonte de informações",
         " um trabalho técnico realizado pelo Inep diretamente dos balanços financeiros de cada estado; para os dados municipais do mesmo período",
         " utilizou-se uma metodologia baseada no percentual mínimo de aplicação de cada município",
         " definido pela legislação vigente;",
         null,
         null,
         null
        ],
        [
         "8 - A partir de 2006",
         " utilizaram-se como fontes de dados estaduais e municipais",
         " o Sistema de Informações sobre Orçamento Público em Educação - Siope -",
         " administrado pelo Fundo Nacional de Desenvolvimento da Educação - FNDE;",
         null,
         null,
         null,
         null
        ],
        [
         "9 - Os dados da União foram coletados do Sistema Integrado de Administração Financeira - Siafi/STN - para todos os anos;",
         null,
         null,
         null,
         null,
         null,
         null,
         null
        ],
        [
         "10 - Para o cálculo dos valores de Investimentos Públicos em Educação",
         " utilizaram-se  as seguintes fontes de dados primários:",
         null,
         null,
         null,
         null,
         null,
         null
        ],
        [
         "- Instituto Nacional de Estudos e Pesquisas Educacionais Anísio Teixeira - Inep/MEC; - Secretaria do Tesouro Nacional (STN); - FNDE; - Balanço Geral dos Estados e do Distrito Federal; - Coordenação de Aperfeiçoamento de Pessoal de Nível Superior (Capes); - Instituto de Pesquisa Econômica Aplicada (Ipea); - Instituto Brasileiro de Geografia e Estatística (IBGE); - Caixa Econômica Federal (CEF); - Conselho Nacional de Desenvolvimento Científico e Tecnológico (CNPq).\"",
         null,
         null,
         null,
         null,
         null,
         null,
         null
        ]
       ],
       "datasetInfos": [],
       "dbfsResultPath": null,
       "isJsonSchema": true,
       "metadata": {},
       "overflow": false,
       "plotOptions": {
        "customPlotOptions": {},
        "displayType": "table",
        "pivotAggregation": null,
        "pivotColumns": null,
        "xColumns": null,
        "yColumns": null
       },
       "removedWidgets": [],
       "schema": [
        {
         "metadata": "{}",
         "name": "_c0",
         "type": "\"string\""
        },
        {
         "metadata": "{}",
         "name": "_c1",
         "type": "\"string\""
        },
        {
         "metadata": "{}",
         "name": "_c2",
         "type": "\"string\""
        },
        {
         "metadata": "{}",
         "name": "_c3",
         "type": "\"string\""
        },
        {
         "metadata": "{}",
         "name": "_c4",
         "type": "\"string\""
        },
        {
         "metadata": "{}",
         "name": "_c5",
         "type": "\"string\""
        },
        {
         "metadata": "{}",
         "name": "_c6",
         "type": "\"string\""
        },
        {
         "metadata": "{}",
         "name": "_c7",
         "type": "\"string\""
        }
       ],
       "type": "table"
      }
     },
     "output_type": "display_data"
    }
   ],
   "source": [
    "# File location and type\n",
    "file_location = \"/FileStore/tables/proporcao_nivel_ensinocsv.csv\"\n",
    "file_type = \"csv\"\n",
    "\n",
    "# CSV options\n",
    "infer_schema = \"false\"\n",
    "first_row_is_header = \"false\"\n",
    "delimiter = \",\"\n",
    "\n",
    "# The applied options are for CSV files. For other file types, these will be ignored.\n",
    "df = spark.read.format(file_type) \\\n",
    "  .option(\"inferSchema\", infer_schema) \\\n",
    "  .option(\"header\", first_row_is_header) \\\n",
    "  .option(\"sep\", delimiter) \\\n",
    "  .load(file_location)\n",
    "\n",
    "display(df)"
   ]
  },
  {
   "cell_type": "code",
   "execution_count": 0,
   "metadata": {
    "application/vnd.databricks.v1+cell": {
     "cellMetadata": {
      "byteLimit": 2048000,
      "rowLimit": 10000
     },
     "inputWidgets": {},
     "nuid": "bd82bb99-1479-4d5c-be10-8c36df0f1d44",
     "showTitle": false,
     "tableResultSettingsMap": {},
     "title": ""
    }
   },
   "outputs": [],
   "source": [
    "# Create a view or table\n",
    "\n",
    "temp_table_name = \"proporcao_nivel_ensinocsv_csv\"\n",
    "\n",
    "df.createOrReplaceTempView(temp_table_name)"
   ]
  },
  {
   "cell_type": "code",
   "execution_count": 0,
   "metadata": {
    "application/vnd.databricks.v1+cell": {
     "cellMetadata": {
      "byteLimit": 2048000,
      "implicitDf": true,
      "rowLimit": 10000
     },
     "inputWidgets": {},
     "nuid": "b5f66379-6f7f-42ec-8e82-d0e0926a1721",
     "showTitle": false,
     "tableResultSettingsMap": {},
     "title": ""
    }
   },
   "outputs": [
    {
     "output_type": "display_data",
     "data": {
      "text/html": [
       "<style scoped>\n",
       "  .table-result-container {\n",
       "    max-height: 300px;\n",
       "    overflow: auto;\n",
       "  }\n",
       "  table, th, td {\n",
       "    border: 1px solid black;\n",
       "    border-collapse: collapse;\n",
       "  }\n",
       "  th, td {\n",
       "    padding: 5px;\n",
       "  }\n",
       "  th {\n",
       "    text-align: left;\n",
       "  }\n",
       "</style><div class='table-result-container'><table class='table-result'><thead style='background-color: white'><tr><th>_c0</th><th>_c1</th><th>_c2</th><th>_c3</th><th>_c4</th><th>_c5</th><th>_c6</th><th>_c7</th></tr></thead><tbody><tr><td>Ano</td><td>Todos os Níveis de Ensino</td><td>Níveis de Ensino</td><td>null</td><td>null</td><td>null</td><td>null</td><td>null</td></tr><tr><td>null</td><td>null</td><td>Educação Básica</td><td>Educação Infantil</td><td>Ensino Fundamental</td><td>null</td><td>Ensino Médio</td><td> Educação Superior </td></tr><tr><td>null</td><td>null</td><td>null</td><td>null</td><td>De 1ª a 4ª  Séries ou Anos Iniciais</td><td>De 5ª a 8ª  Séries ou Anos Finais</td><td>null</td><td>null</td></tr><tr><td>2000</td><td>100.0</td><td>79.9</td><td>8.4</td><td>32.2</td><td>26.2</td><td>13.2</td><td>20.1</td></tr><tr><td>2001</td><td>100.0</td><td>80.4</td><td>7.8</td><td>30.1</td><td>27.0</td><td>15.4</td><td>19.6</td></tr><tr><td>2002</td><td>100.0</td><td>79.6</td><td>7.4</td><td>34.7</td><td>26.9</td><td>10.6</td><td>20.4</td></tr><tr><td>2003</td><td>100.0</td><td>80.6</td><td>8.5</td><td>33.2</td><td>26.5</td><td>12.3</td><td>19.4</td></tr><tr><td>2004</td><td>100.0</td><td>81.7</td><td>8.9</td><td>34.2</td><td>27.4</td><td>11.2</td><td>18.3</td></tr><tr><td>2005</td><td>100.0</td><td>80.8</td><td>8.2</td><td>33.9</td><td>27.6</td><td>11.1</td><td>19.2</td></tr><tr><td>2006</td><td>100.0</td><td>83.3</td><td>7.5</td><td>32.0</td><td>30.7</td><td>13.1</td><td>16.7</td></tr><tr><td>2007</td><td>100.0</td><td>83.2</td><td>7.9</td><td>31.9</td><td>29.9</td><td>13.5</td><td>16.8</td></tr><tr><td>2008</td><td>100.0</td><td>84.1</td><td>7.6</td><td>31.9</td><td>30.7</td><td>13.9</td><td>15.9</td></tr><tr><td>2009</td><td>100.0</td><td>83.8</td><td>7.0</td><td>32.3</td><td>31.0</td><td>13.5</td><td>16.2</td></tr><tr><td>2010</td><td>100.0</td><td>83.6</td><td>7.6</td><td>31.3</td><td>29.7</td><td>14.9</td><td>16.4</td></tr><tr><td>2011</td><td>100.0</td><td>82.4</td><td>8.7</td><td>29.0</td><td>27.3</td><td>17.4</td><td>17.6</td></tr><tr><td>2012</td><td>100.0</td><td>82.7</td><td>10.0</td><td>28.6</td><td>25.9</td><td>18.2</td><td>17.3</td></tr><tr><td>2013</td><td>100.0</td><td>81.8</td><td>10.5</td><td>27.4</td><td>25.5</td><td>18.5</td><td>18.2</td></tr><tr><td>2014</td><td>100.0</td><td>80.7</td><td>10.8</td><td>26.8</td><td>24.3</td><td>18.8</td><td>19.3</td></tr><tr><td>2015</td><td>100.0</td><td>78.5</td><td>11.6</td><td>25.6</td><td>23.0</td><td>18.4</td><td>21.5</td></tr><tr><td>2016</td><td>100.0</td><td>78.1</td><td>11.7</td><td>25.7</td><td>22.0</td><td>18.7</td><td>21.9</td></tr><tr><td>2017</td><td>100.0</td><td>76.0</td><td>11.2</td><td>24.9</td><td>21.0</td><td>18.8</td><td>24.0</td></tr><tr><td>2018</td><td>100.0</td><td>77.4</td><td>12.3</td><td>25.2</td><td>21.3</td><td>18.6</td><td>22.6</td></tr><tr><td>2019</td><td>100.0</td><td>77.6</td><td>12.7</td><td>25.5</td><td>21.4</td><td>18.0</td><td>22.4</td></tr><tr><td>2020</td><td>100.0</td><td>79.6</td><td>16.5</td><td>23.8</td><td>21.8</td><td>17.4</td><td>20.4</td></tr><tr><td>2021</td><td>100.0</td><td>81.4</td><td>17.0</td><td>24.1</td><td>22.1</td><td>18.2</td><td>18.6</td></tr><tr><td>null</td><td>null</td><td>null</td><td>null</td><td>null</td><td>null</td><td>null</td><td>null</td></tr><tr><td>Fonte: Inep/MEC - Tabela elaborada pela Deed/Inep.</td><td>null</td><td>null</td><td>null</td><td>null</td><td>null</td><td>null</td><td>null</td></tr><tr><td>Notas: \n",
       "</td><td>null</td><td>null</td><td>null</td><td>null</td><td>null</td><td>null</td><td>null</td></tr><tr><td>1 - Utilizaram-se os seguintes grupos de Natureza de Despesa: Pessoal Ativo e Encargos Sociais (inclusive</td><td> a estimativa para complemento da aposentadoria futura do pessoal ativo)</td><td> outras Despesas Correntes</td><td> Investimentos e Inversões Financeiras;</td><td>null</td><td>null</td><td>null</td><td>null</td></tr><tr><td>2 - Estão computados nos cálculos os recursos para bolsa de estudo</td><td> financiamento estudantil e a modalidade de aplicação: Transferências Correntes e de Capital ao Setor Privado;</td><td>null</td><td>null</td><td>null</td><td>null</td><td>null</td><td>null</td></tr><tr><td>3 - Os investimentos em Educação Especial</td><td> Educação de Jovens e Adultos e Educação Indígena foram distribuídos na Educação Infantil</td><td> no Ensino Fundamental anos iniciais e anos finais e no Ensino Médio</td><td> dependendo do nível de ensino ao qual fazem referência. No Ensino Médio estão computados os valores da Educação Profissional (concomitante</td><td> subsequente e integrado);</td><td>null</td><td>null</td><td>null</td></tr><tr><td>4 - A Educação Superior corresponde aos cursos superiores em Tecnologia</td><td> demais cursos de Graduação (Presencial e a distância) (exceto cursos sequenciais) e cursos de pós-graduação Stricto Sensu - Mestrado</td><td> Mestrado Profissional e Doutorado (excetuando-se as especializações Lato Sensu);</td><td>null</td><td>null</td><td>null</td><td>null</td><td>null</td></tr><tr><td>5 - Estes dados referem-se aos investimentos em educação consolidados do Governo Federal</td><td> dos Estados e do Distrito Federal e dos Municípios;</td><td>null</td><td>null</td><td>null</td><td>null</td><td>null</td><td>null</td></tr><tr><td>6 - Para os anos de 2000 a 2003</td><td> estão contabilizados na área educacional</td><td> os valores despendidos pelo Governo Federal para o Programa Bolsa-Escola;</td><td>null</td><td>null</td><td>null</td><td>null</td><td>null</td></tr><tr><td>7 - Entre os anos de 2000 e 2005: para os dados estaduais</td><td> foi utilizada como fonte de informações</td><td> um trabalho técnico realizado pelo Inep diretamente dos balanços financeiros de cada estado; para os dados municipais do mesmo período</td><td> utilizou-se uma metodologia baseada no percentual mínimo de aplicação de cada município</td><td> definido pela legislação vigente;</td><td>null</td><td>null</td><td>null</td></tr><tr><td>8 - A partir de 2006</td><td> utilizaram-se como fontes de dados estaduais e municipais</td><td> o Sistema de Informações sobre Orçamento Público em Educação - Siope -</td><td> administrado pelo Fundo Nacional de Desenvolvimento da Educação - FNDE;</td><td>null</td><td>null</td><td>null</td><td>null</td></tr><tr><td>9 - Os dados da União foram coletados do Sistema Integrado de Administração Financeira - Siafi/STN - para todos os anos;</td><td>null</td><td>null</td><td>null</td><td>null</td><td>null</td><td>null</td><td>null</td></tr><tr><td>10 - Para o cálculo dos valores de Investimentos Públicos em Educação</td><td> utilizaram-se  as seguintes fontes de dados primários:</td><td>null</td><td>null</td><td>null</td><td>null</td><td>null</td><td>null</td></tr><tr><td>- Instituto Nacional de Estudos e Pesquisas Educacionais Anísio Teixeira - Inep/MEC; - Secretaria do Tesouro Nacional (STN); - FNDE; - Balanço Geral dos Estados e do Distrito Federal; - Coordenação de Aperfeiçoamento de Pessoal de Nível Superior (Capes); - Instituto de Pesquisa Econômica Aplicada (Ipea); - Instituto Brasileiro de Geografia e Estatística (IBGE); - Caixa Econômica Federal (CEF); - Conselho Nacional de Desenvolvimento Científico e Tecnológico (CNPq).\"</td><td>null</td><td>null</td><td>null</td><td>null</td><td>null</td><td>null</td><td>null</td></tr></tbody></table></div>"
      ]
     },
     "metadata": {
      "application/vnd.databricks.v1+output": {
       "addedWidgets": {},
       "aggData": [],
       "aggError": "",
       "aggOverflow": false,
       "aggSchema": [],
       "aggSeriesLimitReached": false,
       "aggType": "",
       "arguments": {},
       "columnCustomDisplayInfos": {},
       "data": [
        [
         "Ano",
         "Todos os Níveis de Ensino",
         "Níveis de Ensino",
         null,
         null,
         null,
         null,
         null
        ],
        [
         null,
         null,
         "Educação Básica",
         "Educação Infantil",
         "Ensino Fundamental",
         null,
         "Ensino Médio",
         " Educação Superior "
        ],
        [
         null,
         null,
         null,
         null,
         "De 1ª a 4ª  Séries ou Anos Iniciais",
         "De 5ª a 8ª  Séries ou Anos Finais",
         null,
         null
        ],
        [
         "2000",
         "100.0",
         "79.9",
         "8.4",
         "32.2",
         "26.2",
         "13.2",
         "20.1"
        ],
        [
         "2001",
         "100.0",
         "80.4",
         "7.8",
         "30.1",
         "27.0",
         "15.4",
         "19.6"
        ],
        [
         "2002",
         "100.0",
         "79.6",
         "7.4",
         "34.7",
         "26.9",
         "10.6",
         "20.4"
        ],
        [
         "2003",
         "100.0",
         "80.6",
         "8.5",
         "33.2",
         "26.5",
         "12.3",
         "19.4"
        ],
        [
         "2004",
         "100.0",
         "81.7",
         "8.9",
         "34.2",
         "27.4",
         "11.2",
         "18.3"
        ],
        [
         "2005",
         "100.0",
         "80.8",
         "8.2",
         "33.9",
         "27.6",
         "11.1",
         "19.2"
        ],
        [
         "2006",
         "100.0",
         "83.3",
         "7.5",
         "32.0",
         "30.7",
         "13.1",
         "16.7"
        ],
        [
         "2007",
         "100.0",
         "83.2",
         "7.9",
         "31.9",
         "29.9",
         "13.5",
         "16.8"
        ],
        [
         "2008",
         "100.0",
         "84.1",
         "7.6",
         "31.9",
         "30.7",
         "13.9",
         "15.9"
        ],
        [
         "2009",
         "100.0",
         "83.8",
         "7.0",
         "32.3",
         "31.0",
         "13.5",
         "16.2"
        ],
        [
         "2010",
         "100.0",
         "83.6",
         "7.6",
         "31.3",
         "29.7",
         "14.9",
         "16.4"
        ],
        [
         "2011",
         "100.0",
         "82.4",
         "8.7",
         "29.0",
         "27.3",
         "17.4",
         "17.6"
        ],
        [
         "2012",
         "100.0",
         "82.7",
         "10.0",
         "28.6",
         "25.9",
         "18.2",
         "17.3"
        ],
        [
         "2013",
         "100.0",
         "81.8",
         "10.5",
         "27.4",
         "25.5",
         "18.5",
         "18.2"
        ],
        [
         "2014",
         "100.0",
         "80.7",
         "10.8",
         "26.8",
         "24.3",
         "18.8",
         "19.3"
        ],
        [
         "2015",
         "100.0",
         "78.5",
         "11.6",
         "25.6",
         "23.0",
         "18.4",
         "21.5"
        ],
        [
         "2016",
         "100.0",
         "78.1",
         "11.7",
         "25.7",
         "22.0",
         "18.7",
         "21.9"
        ],
        [
         "2017",
         "100.0",
         "76.0",
         "11.2",
         "24.9",
         "21.0",
         "18.8",
         "24.0"
        ],
        [
         "2018",
         "100.0",
         "77.4",
         "12.3",
         "25.2",
         "21.3",
         "18.6",
         "22.6"
        ],
        [
         "2019",
         "100.0",
         "77.6",
         "12.7",
         "25.5",
         "21.4",
         "18.0",
         "22.4"
        ],
        [
         "2020",
         "100.0",
         "79.6",
         "16.5",
         "23.8",
         "21.8",
         "17.4",
         "20.4"
        ],
        [
         "2021",
         "100.0",
         "81.4",
         "17.0",
         "24.1",
         "22.1",
         "18.2",
         "18.6"
        ],
        [
         null,
         null,
         null,
         null,
         null,
         null,
         null,
         null
        ],
        [
         "Fonte: Inep/MEC - Tabela elaborada pela Deed/Inep.",
         null,
         null,
         null,
         null,
         null,
         null,
         null
        ],
        [
         "Notas: \n",
         null,
         null,
         null,
         null,
         null,
         null,
         null
        ],
        [
         "1 - Utilizaram-se os seguintes grupos de Natureza de Despesa: Pessoal Ativo e Encargos Sociais (inclusive",
         " a estimativa para complemento da aposentadoria futura do pessoal ativo)",
         " outras Despesas Correntes",
         " Investimentos e Inversões Financeiras;",
         null,
         null,
         null,
         null
        ],
        [
         "2 - Estão computados nos cálculos os recursos para bolsa de estudo",
         " financiamento estudantil e a modalidade de aplicação: Transferências Correntes e de Capital ao Setor Privado;",
         null,
         null,
         null,
         null,
         null,
         null
        ],
        [
         "3 - Os investimentos em Educação Especial",
         " Educação de Jovens e Adultos e Educação Indígena foram distribuídos na Educação Infantil",
         " no Ensino Fundamental anos iniciais e anos finais e no Ensino Médio",
         " dependendo do nível de ensino ao qual fazem referência. No Ensino Médio estão computados os valores da Educação Profissional (concomitante",
         " subsequente e integrado);",
         null,
         null,
         null
        ],
        [
         "4 - A Educação Superior corresponde aos cursos superiores em Tecnologia",
         " demais cursos de Graduação (Presencial e a distância) (exceto cursos sequenciais) e cursos de pós-graduação Stricto Sensu - Mestrado",
         " Mestrado Profissional e Doutorado (excetuando-se as especializações Lato Sensu);",
         null,
         null,
         null,
         null,
         null
        ],
        [
         "5 - Estes dados referem-se aos investimentos em educação consolidados do Governo Federal",
         " dos Estados e do Distrito Federal e dos Municípios;",
         null,
         null,
         null,
         null,
         null,
         null
        ],
        [
         "6 - Para os anos de 2000 a 2003",
         " estão contabilizados na área educacional",
         " os valores despendidos pelo Governo Federal para o Programa Bolsa-Escola;",
         null,
         null,
         null,
         null,
         null
        ],
        [
         "7 - Entre os anos de 2000 e 2005: para os dados estaduais",
         " foi utilizada como fonte de informações",
         " um trabalho técnico realizado pelo Inep diretamente dos balanços financeiros de cada estado; para os dados municipais do mesmo período",
         " utilizou-se uma metodologia baseada no percentual mínimo de aplicação de cada município",
         " definido pela legislação vigente;",
         null,
         null,
         null
        ],
        [
         "8 - A partir de 2006",
         " utilizaram-se como fontes de dados estaduais e municipais",
         " o Sistema de Informações sobre Orçamento Público em Educação - Siope -",
         " administrado pelo Fundo Nacional de Desenvolvimento da Educação - FNDE;",
         null,
         null,
         null,
         null
        ],
        [
         "9 - Os dados da União foram coletados do Sistema Integrado de Administração Financeira - Siafi/STN - para todos os anos;",
         null,
         null,
         null,
         null,
         null,
         null,
         null
        ],
        [
         "10 - Para o cálculo dos valores de Investimentos Públicos em Educação",
         " utilizaram-se  as seguintes fontes de dados primários:",
         null,
         null,
         null,
         null,
         null,
         null
        ],
        [
         "- Instituto Nacional de Estudos e Pesquisas Educacionais Anísio Teixeira - Inep/MEC; - Secretaria do Tesouro Nacional (STN); - FNDE; - Balanço Geral dos Estados e do Distrito Federal; - Coordenação de Aperfeiçoamento de Pessoal de Nível Superior (Capes); - Instituto de Pesquisa Econômica Aplicada (Ipea); - Instituto Brasileiro de Geografia e Estatística (IBGE); - Caixa Econômica Federal (CEF); - Conselho Nacional de Desenvolvimento Científico e Tecnológico (CNPq).\"",
         null,
         null,
         null,
         null,
         null,
         null,
         null
        ]
       ],
       "datasetInfos": [],
       "dbfsResultPath": null,
       "isJsonSchema": true,
       "metadata": {},
       "overflow": false,
       "plotOptions": {
        "customPlotOptions": {},
        "displayType": "table",
        "pivotAggregation": null,
        "pivotColumns": null,
        "xColumns": null,
        "yColumns": null
       },
       "removedWidgets": [],
       "schema": [
        {
         "metadata": "{}",
         "name": "_c0",
         "type": "\"string\""
        },
        {
         "metadata": "{}",
         "name": "_c1",
         "type": "\"string\""
        },
        {
         "metadata": "{}",
         "name": "_c2",
         "type": "\"string\""
        },
        {
         "metadata": "{}",
         "name": "_c3",
         "type": "\"string\""
        },
        {
         "metadata": "{}",
         "name": "_c4",
         "type": "\"string\""
        },
        {
         "metadata": "{}",
         "name": "_c5",
         "type": "\"string\""
        },
        {
         "metadata": "{}",
         "name": "_c6",
         "type": "\"string\""
        },
        {
         "metadata": "{}",
         "name": "_c7",
         "type": "\"string\""
        }
       ],
       "type": "table"
      }
     },
     "output_type": "display_data"
    }
   ],
   "source": [
    "%sql\n",
    "\n",
    "/* Query the created temp table in a SQL cell */\n",
    "\n",
    "select * from `proporcao_nivel_ensinocsv_csv`"
   ]
  },
  {
   "cell_type": "code",
   "execution_count": 0,
   "metadata": {
    "application/vnd.databricks.v1+cell": {
     "cellMetadata": {
      "byteLimit": 2048000,
      "rowLimit": 10000
     },
     "inputWidgets": {},
     "nuid": "db9631f6-bb4a-42ca-8a3c-0d48af932331",
     "showTitle": false,
     "tableResultSettingsMap": {},
     "title": ""
    }
   },
   "outputs": [],
   "source": [
    "# With this registered as a temp view, it will only be available to this particular notebook. If you'd like other users to be able to query this table, you can also create a table from the DataFrame.\n",
    "# Once saved, this table will persist across cluster restarts as well as allow various users across different notebooks to query this data.\n",
    "# To do so, choose your table name and uncomment the bottom line.\n",
    "\n",
    "permanent_table_name = \"proporcao_nivel_ensinocsv_csv\"\n",
    "\n",
    "# df.write.format(\"parquet\").saveAsTable(permanent_table_name)"
   ]
  },
  {
   "cell_type": "code",
   "execution_count": 0,
   "metadata": {
    "application/vnd.databricks.v1+cell": {
     "cellMetadata": {
      "byteLimit": 2048000,
      "rowLimit": 10000
     },
     "inputWidgets": {},
     "nuid": "86fec26d-1eae-42a2-afe2-f8dd38e35a90",
     "showTitle": false,
     "tableResultSettingsMap": {},
     "title": ""
    }
   },
   "outputs": [
    {
     "output_type": "stream",
     "name": "stdout",
     "output_type": "stream",
     "text": [
      "root\n |-- Ano: string (nullable = true)\n |-- Todos os Níveis de Ensino: string (nullable = true)\n |-- Níveis de Ensino: string (nullable = true)\n |-- _c3: string (nullable = true)\n |-- _c4: string (nullable = true)\n |-- _c5: string (nullable = true)\n |-- _c6: string (nullable = true)\n |-- _c7: string (nullable = true)\n\n+----+-------------------------+----------------+---+----+----+----+----+\n| Ano|Todos os Níveis de Ensino|Níveis de Ensino|_c3| _c4| _c5| _c6| _c7|\n+----+-------------------------+----------------+---+----+----+----+----+\n|2000|                    100.0|            79.9|8.4|32.2|26.2|13.2|20.1|\n|2001|                    100.0|            80.4|7.8|30.1|27.0|15.4|19.6|\n|2002|                    100.0|            79.6|7.4|34.7|26.9|10.6|20.4|\n|2003|                    100.0|            80.6|8.5|33.2|26.5|12.3|19.4|\n|2004|                    100.0|            81.7|8.9|34.2|27.4|11.2|18.3|\n+----+-------------------------+----------------+---+----+----+----+----+\nonly showing top 5 rows\n\n"
     ]
    }
   ],
   "source": [
    "df = spark.read.option(\"header\", \"true\").option(\"inferSchema\", \"true\").csv(\"/FileStore/tables/proporcao_nivel_ensinocsv.csv\")\n",
    "df = df.filter(df[\"Ano\"].isNotNull())\n",
    "df.printSchema()\n",
    "df.show(5)"
   ]
  },
  {
   "cell_type": "code",
   "execution_count": 0,
   "metadata": {
    "application/vnd.databricks.v1+cell": {
     "cellMetadata": {
      "byteLimit": 2048000,
      "rowLimit": 10000
     },
     "inputWidgets": {},
     "nuid": "1c65353e-58dd-41d6-a7e9-651a48360ee6",
     "showTitle": false,
     "tableResultSettingsMap": {},
     "title": ""
    }
   },
   "outputs": [],
   "source": [
    "df = df.select(\n",
    "    df[\"Ano\"],\n",
    "    df[\"`Todos os Níveis de Ensino`\"].alias(\"Todos\"),\n",
    "    df[\"`Níveis de Ensino`\"].alias(\"Educacao_Basica\"),\n",
    "    df[\"_c3\"].alias(\"Educacao_Infantil\"),\n",
    "    df[\"_c4\"].alias(\"Ensino_Fundamental_Inicial\"),\n",
    "    df[\"_c5\"].alias(\"Ensino_Fundamental_Final\"),\n",
    "    df[\"_c6\"].alias(\"Ensino_Medio\"),\n",
    "    df[\"_c7\"].alias(\"Educacao_Superior\")\n",
    ")"
   ]
  },
  {
   "cell_type": "code",
   "execution_count": 0,
   "metadata": {
    "application/vnd.databricks.v1+cell": {
     "cellMetadata": {
      "byteLimit": 2048000,
      "rowLimit": 10000
     },
     "inputWidgets": {},
     "nuid": "14db579b-7fdd-4bcd-8499-0558bac70d7e",
     "showTitle": false,
     "tableResultSettingsMap": {},
     "title": ""
    }
   },
   "outputs": [
    {
     "output_type": "stream",
     "name": "stdout",
     "output_type": "stream",
     "text": [
      "+----+-----+---------------+-----------------+--------------------------+------------------------+------------+-----------------+\n| Ano|Todos|Educacao_Basica|Educacao_Infantil|Ensino_Fundamental_Inicial|Ensino_Fundamental_Final|Ensino_Medio|Educacao_Superior|\n+----+-----+---------------+-----------------+--------------------------+------------------------+------------+-----------------+\n|2000|100.0|           79.9|              8.4|                      32.2|                    26.2|        13.2|             20.1|\n|2001|100.0|           80.4|              7.8|                      30.1|                    27.0|        15.4|             19.6|\n|2002|100.0|           79.6|              7.4|                      34.7|                    26.9|        10.6|             20.4|\n|2003|100.0|           80.6|              8.5|                      33.2|                    26.5|        12.3|             19.4|\n|2004|100.0|           81.7|              8.9|                      34.2|                    27.4|        11.2|             18.3|\n+----+-----+---------------+-----------------+--------------------------+------------------------+------------+-----------------+\nonly showing top 5 rows\n\n"
     ]
    }
   ],
   "source": [
    "df.show(5)"
   ]
  },
  {
   "cell_type": "code",
   "execution_count": 0,
   "metadata": {
    "application/vnd.databricks.v1+cell": {
     "cellMetadata": {
      "byteLimit": 2048000,
      "rowLimit": 10000
     },
     "inputWidgets": {},
     "nuid": "18792d69-70a0-48d2-b486-3d811c17a17c",
     "showTitle": false,
     "tableResultSettingsMap": {},
     "title": ""
    }
   },
   "outputs": [],
   "source": [
    "from pyspark.sql.functions import col\n",
    "from pyspark.sql.types import DoubleType\n",
    "\n",
    "# Convertendo todas as colunas numéricas\n",
    "colunas_numericas = [\n",
    "    \"Todos\", \"Educacao_Basica\", \"Educacao_Infantil\",\n",
    "    \"Ensino_Fundamental_Inicial\", \"Ensino_Fundamental_Final\",\n",
    "    \"Ensino_Medio\", \"Educacao_Superior\"\n",
    "]\n",
    "\n",
    "for coluna in colunas_numericas:\n",
    "    df = df.withColumn(coluna, col(coluna).cast(DoubleType()))"
   ]
  },
  {
   "cell_type": "code",
   "execution_count": 0,
   "metadata": {
    "application/vnd.databricks.v1+cell": {
     "cellMetadata": {
      "byteLimit": 2048000,
      "rowLimit": 10000
     },
     "inputWidgets": {},
     "nuid": "658fdc84-511e-449b-99c7-015b9af27a49",
     "showTitle": false,
     "tableResultSettingsMap": {},
     "title": ""
    }
   },
   "outputs": [],
   "source": [
    "from pyspark.sql.functions import col, regexp_extract\n",
    "\n",
    "# Filtra apenas linhas onde \"Ano\" tem 4 dígitos numéricos\n",
    "df = df.filter(regexp_extract(col(\"Ano\"), \"^[0-9]{4}$\", 0) != \"\")"
   ]
  },
  {
   "cell_type": "code",
   "execution_count": 0,
   "metadata": {
    "application/vnd.databricks.v1+cell": {
     "cellMetadata": {
      "byteLimit": 2048000,
      "rowLimit": 10000
     },
     "inputWidgets": {},
     "nuid": "539f812f-b3e2-4180-9e25-c03b54148edd",
     "showTitle": false,
     "tableResultSettingsMap": {},
     "title": ""
    }
   },
   "outputs": [
    {
     "output_type": "display_data",
     "data": {
      "text/html": [
       "<style scoped>\n",
       "  .table-result-container {\n",
       "    max-height: 300px;\n",
       "    overflow: auto;\n",
       "  }\n",
       "  table, th, td {\n",
       "    border: 1px solid black;\n",
       "    border-collapse: collapse;\n",
       "  }\n",
       "  th, td {\n",
       "    padding: 5px;\n",
       "  }\n",
       "  th {\n",
       "    text-align: left;\n",
       "  }\n",
       "</style><div class='table-result-container'><table class='table-result'><thead style='background-color: white'><tr><th>Ano</th><th>Educacao_Basica</th><th>Educacao_Infantil</th><th>Ensino_Fundamental_Inicial</th><th>Ensino_Fundamental_Final</th><th>Ensino_Medio</th><th>Educacao_Superior</th></tr></thead><tbody><tr><td>2000</td><td>79.9</td><td>8.4</td><td>32.2</td><td>26.2</td><td>13.2</td><td>20.1</td></tr><tr><td>2001</td><td>80.4</td><td>7.8</td><td>30.1</td><td>27.0</td><td>15.4</td><td>19.6</td></tr><tr><td>2002</td><td>79.6</td><td>7.4</td><td>34.7</td><td>26.9</td><td>10.6</td><td>20.4</td></tr><tr><td>2003</td><td>80.6</td><td>8.5</td><td>33.2</td><td>26.5</td><td>12.3</td><td>19.4</td></tr><tr><td>2004</td><td>81.7</td><td>8.9</td><td>34.2</td><td>27.4</td><td>11.2</td><td>18.3</td></tr><tr><td>2005</td><td>80.8</td><td>8.2</td><td>33.9</td><td>27.6</td><td>11.1</td><td>19.2</td></tr><tr><td>2006</td><td>83.3</td><td>7.5</td><td>32.0</td><td>30.7</td><td>13.1</td><td>16.7</td></tr><tr><td>2007</td><td>83.2</td><td>7.9</td><td>31.9</td><td>29.9</td><td>13.5</td><td>16.8</td></tr><tr><td>2008</td><td>84.1</td><td>7.6</td><td>31.9</td><td>30.7</td><td>13.9</td><td>15.9</td></tr><tr><td>2009</td><td>83.8</td><td>7.0</td><td>32.3</td><td>31.0</td><td>13.5</td><td>16.2</td></tr><tr><td>2010</td><td>83.6</td><td>7.6</td><td>31.3</td><td>29.7</td><td>14.9</td><td>16.4</td></tr><tr><td>2011</td><td>82.4</td><td>8.7</td><td>29.0</td><td>27.3</td><td>17.4</td><td>17.6</td></tr><tr><td>2012</td><td>82.7</td><td>10.0</td><td>28.6</td><td>25.9</td><td>18.2</td><td>17.3</td></tr><tr><td>2013</td><td>81.8</td><td>10.5</td><td>27.4</td><td>25.5</td><td>18.5</td><td>18.2</td></tr><tr><td>2014</td><td>80.7</td><td>10.8</td><td>26.8</td><td>24.3</td><td>18.8</td><td>19.3</td></tr><tr><td>2015</td><td>78.5</td><td>11.6</td><td>25.6</td><td>23.0</td><td>18.4</td><td>21.5</td></tr><tr><td>2016</td><td>78.1</td><td>11.7</td><td>25.7</td><td>22.0</td><td>18.7</td><td>21.9</td></tr><tr><td>2017</td><td>76.0</td><td>11.2</td><td>24.9</td><td>21.0</td><td>18.8</td><td>24.0</td></tr><tr><td>2018</td><td>77.4</td><td>12.3</td><td>25.2</td><td>21.3</td><td>18.6</td><td>22.6</td></tr><tr><td>2019</td><td>77.6</td><td>12.7</td><td>25.5</td><td>21.4</td><td>18.0</td><td>22.4</td></tr><tr><td>2020</td><td>79.6</td><td>16.5</td><td>23.8</td><td>21.8</td><td>17.4</td><td>20.4</td></tr><tr><td>2021</td><td>81.4</td><td>17.0</td><td>24.1</td><td>22.1</td><td>18.2</td><td>18.6</td></tr></tbody></table></div>"
      ]
     },
     "metadata": {
      "application/vnd.databricks.v1+output": {
       "addedWidgets": {},
       "aggData": [],
       "aggError": "",
       "aggOverflow": false,
       "aggSchema": [],
       "aggSeriesLimitReached": false,
       "aggType": "",
       "arguments": {},
       "columnCustomDisplayInfos": {},
       "data": [
        [
         "2000",
         79.9,
         8.4,
         32.2,
         26.2,
         13.2,
         20.1
        ],
        [
         "2001",
         80.4,
         7.8,
         30.1,
         27.0,
         15.4,
         19.6
        ],
        [
         "2002",
         79.6,
         7.4,
         34.7,
         26.9,
         10.6,
         20.4
        ],
        [
         "2003",
         80.6,
         8.5,
         33.2,
         26.5,
         12.3,
         19.4
        ],
        [
         "2004",
         81.7,
         8.9,
         34.2,
         27.4,
         11.2,
         18.3
        ],
        [
         "2005",
         80.8,
         8.2,
         33.9,
         27.6,
         11.1,
         19.2
        ],
        [
         "2006",
         83.3,
         7.5,
         32.0,
         30.7,
         13.1,
         16.7
        ],
        [
         "2007",
         83.2,
         7.9,
         31.9,
         29.9,
         13.5,
         16.8
        ],
        [
         "2008",
         84.1,
         7.6,
         31.9,
         30.7,
         13.9,
         15.9
        ],
        [
         "2009",
         83.8,
         7.0,
         32.3,
         31.0,
         13.5,
         16.2
        ],
        [
         "2010",
         83.6,
         7.6,
         31.3,
         29.7,
         14.9,
         16.4
        ],
        [
         "2011",
         82.4,
         8.7,
         29.0,
         27.3,
         17.4,
         17.6
        ],
        [
         "2012",
         82.7,
         10.0,
         28.6,
         25.9,
         18.2,
         17.3
        ],
        [
         "2013",
         81.8,
         10.5,
         27.4,
         25.5,
         18.5,
         18.2
        ],
        [
         "2014",
         80.7,
         10.8,
         26.8,
         24.3,
         18.8,
         19.3
        ],
        [
         "2015",
         78.5,
         11.6,
         25.6,
         23.0,
         18.4,
         21.5
        ],
        [
         "2016",
         78.1,
         11.7,
         25.7,
         22.0,
         18.7,
         21.9
        ],
        [
         "2017",
         76.0,
         11.2,
         24.9,
         21.0,
         18.8,
         24.0
        ],
        [
         "2018",
         77.4,
         12.3,
         25.2,
         21.3,
         18.6,
         22.6
        ],
        [
         "2019",
         77.6,
         12.7,
         25.5,
         21.4,
         18.0,
         22.4
        ],
        [
         "2020",
         79.6,
         16.5,
         23.8,
         21.8,
         17.4,
         20.4
        ],
        [
         "2021",
         81.4,
         17.0,
         24.1,
         22.1,
         18.2,
         18.6
        ]
       ],
       "datasetInfos": [],
       "dbfsResultPath": null,
       "isJsonSchema": true,
       "metadata": {},
       "overflow": false,
       "plotOptions": {
        "customPlotOptions": {},
        "displayType": "table",
        "pivotAggregation": null,
        "pivotColumns": null,
        "xColumns": null,
        "yColumns": null
       },
       "removedWidgets": [],
       "schema": [
        {
         "metadata": "{}",
         "name": "Ano",
         "type": "\"string\""
        },
        {
         "metadata": "{}",
         "name": "Educacao_Basica",
         "type": "\"double\""
        },
        {
         "metadata": "{}",
         "name": "Educacao_Infantil",
         "type": "\"double\""
        },
        {
         "metadata": "{}",
         "name": "Ensino_Fundamental_Inicial",
         "type": "\"double\""
        },
        {
         "metadata": "{}",
         "name": "Ensino_Fundamental_Final",
         "type": "\"double\""
        },
        {
         "metadata": "{}",
         "name": "Ensino_Medio",
         "type": "\"double\""
        },
        {
         "metadata": "{}",
         "name": "Educacao_Superior",
         "type": "\"double\""
        }
       ],
       "type": "table"
      }
     },
     "output_type": "display_data"
    }
   ],
   "source": [
    "display(\n",
    "    df.select(\"Ano\", \"Educacao_Basica\", \"Educacao_Infantil\",\n",
    "    \"Ensino_Fundamental_Inicial\", \"Ensino_Fundamental_Final\",\n",
    "    \"Ensino_Medio\", \"Educacao_Superior\").orderBy(\"Ano\")\n",
    ")"
   ]
  },
  {
   "cell_type": "code",
   "execution_count": 0,
   "metadata": {
    "application/vnd.databricks.v1+cell": {
     "cellMetadata": {
      "byteLimit": 2048000,
      "rowLimit": 10000
     },
     "inputWidgets": {},
     "nuid": "b8e49ade-1d09-482e-8f29-93360ea2607d",
     "showTitle": false,
     "tableResultSettingsMap": {},
     "title": ""
    }
   },
   "outputs": [
    {
     "output_type": "display_data",
     "data": {
      "text/plain": [
       "\u001B[0;31m---------------------------------------------------------------------------\u001B[0m\n",
       "\u001B[0;31mAnalysisException\u001B[0m                         Traceback (most recent call last)\n",
       "File \u001B[0;32m<command-1255994709476151>:1\u001B[0m\n",
       "\u001B[0;32m----> 1\u001B[0m \u001B[43mdf\u001B[49m\u001B[38;5;241;43m.\u001B[39;49m\u001B[43morderBy\u001B[49m\u001B[43m(\u001B[49m\u001B[38;5;124;43m\"\u001B[39;49m\u001B[38;5;124;43mAno\u001B[39;49m\u001B[38;5;124;43m\"\u001B[39;49m\u001B[43m)\u001B[49m\u001B[38;5;241;43m.\u001B[39;49m\u001B[43mcoalesce\u001B[49m\u001B[43m(\u001B[49m\u001B[38;5;241;43m1\u001B[39;49m\u001B[43m)\u001B[49m\u001B[38;5;241;43m.\u001B[39;49m\u001B[43mwrite\u001B[49m\u001B[38;5;241;43m.\u001B[39;49m\u001B[43moption\u001B[49m\u001B[43m(\u001B[49m\u001B[38;5;124;43m\"\u001B[39;49m\u001B[38;5;124;43mheader\u001B[39;49m\u001B[38;5;124;43m\"\u001B[39;49m\u001B[43m,\u001B[49m\u001B[43m \u001B[49m\u001B[38;5;124;43m\"\u001B[39;49m\u001B[38;5;124;43mtrue\u001B[39;49m\u001B[38;5;124;43m\"\u001B[39;49m\u001B[43m)\u001B[49m\u001B[38;5;241;43m.\u001B[39;49m\u001B[43mcsv\u001B[49m\u001B[43m(\u001B[49m\u001B[38;5;124;43m\"\u001B[39;49m\u001B[38;5;124;43m/FileStore/tables/investimento_educacao_final\u001B[39;49m\u001B[38;5;124;43m\"\u001B[39;49m\u001B[43m)\u001B[49m\n",
       "\n",
       "File \u001B[0;32m/databricks/spark/python/pyspark/instrumentation_utils.py:48\u001B[0m, in \u001B[0;36m_wrap_function.<locals>.wrapper\u001B[0;34m(*args, **kwargs)\u001B[0m\n",
       "\u001B[1;32m     46\u001B[0m start \u001B[38;5;241m=\u001B[39m time\u001B[38;5;241m.\u001B[39mperf_counter()\n",
       "\u001B[1;32m     47\u001B[0m \u001B[38;5;28;01mtry\u001B[39;00m:\n",
       "\u001B[0;32m---> 48\u001B[0m     res \u001B[38;5;241m=\u001B[39m \u001B[43mfunc\u001B[49m\u001B[43m(\u001B[49m\u001B[38;5;241;43m*\u001B[39;49m\u001B[43margs\u001B[49m\u001B[43m,\u001B[49m\u001B[43m \u001B[49m\u001B[38;5;241;43m*\u001B[39;49m\u001B[38;5;241;43m*\u001B[39;49m\u001B[43mkwargs\u001B[49m\u001B[43m)\u001B[49m\n",
       "\u001B[1;32m     49\u001B[0m     logger\u001B[38;5;241m.\u001B[39mlog_success(\n",
       "\u001B[1;32m     50\u001B[0m         module_name, class_name, function_name, time\u001B[38;5;241m.\u001B[39mperf_counter() \u001B[38;5;241m-\u001B[39m start, signature\n",
       "\u001B[1;32m     51\u001B[0m     )\n",
       "\u001B[1;32m     52\u001B[0m     \u001B[38;5;28;01mreturn\u001B[39;00m res\n",
       "\n",
       "File \u001B[0;32m/databricks/spark/python/pyspark/sql/readwriter.py:1798\u001B[0m, in \u001B[0;36mDataFrameWriter.csv\u001B[0;34m(self, path, mode, compression, sep, quote, escape, header, nullValue, escapeQuotes, quoteAll, dateFormat, timestampFormat, ignoreLeadingWhiteSpace, ignoreTrailingWhiteSpace, charToEscapeQuoteEscaping, encoding, emptyValue, lineSep)\u001B[0m\n",
       "\u001B[1;32m   1779\u001B[0m \u001B[38;5;28mself\u001B[39m\u001B[38;5;241m.\u001B[39mmode(mode)\n",
       "\u001B[1;32m   1780\u001B[0m \u001B[38;5;28mself\u001B[39m\u001B[38;5;241m.\u001B[39m_set_opts(\n",
       "\u001B[1;32m   1781\u001B[0m     compression\u001B[38;5;241m=\u001B[39mcompression,\n",
       "\u001B[1;32m   1782\u001B[0m     sep\u001B[38;5;241m=\u001B[39msep,\n",
       "\u001B[0;32m   (...)\u001B[0m\n",
       "\u001B[1;32m   1796\u001B[0m     lineSep\u001B[38;5;241m=\u001B[39mlineSep,\n",
       "\u001B[1;32m   1797\u001B[0m )\n",
       "\u001B[0;32m-> 1798\u001B[0m \u001B[38;5;28;43mself\u001B[39;49m\u001B[38;5;241;43m.\u001B[39;49m\u001B[43m_jwrite\u001B[49m\u001B[38;5;241;43m.\u001B[39;49m\u001B[43mcsv\u001B[49m\u001B[43m(\u001B[49m\u001B[43mpath\u001B[49m\u001B[43m)\u001B[49m\n",
       "\n",
       "File \u001B[0;32m/databricks/spark/python/lib/py4j-0.10.9.5-src.zip/py4j/java_gateway.py:1321\u001B[0m, in \u001B[0;36mJavaMember.__call__\u001B[0;34m(self, *args)\u001B[0m\n",
       "\u001B[1;32m   1315\u001B[0m command \u001B[38;5;241m=\u001B[39m proto\u001B[38;5;241m.\u001B[39mCALL_COMMAND_NAME \u001B[38;5;241m+\u001B[39m\\\n",
       "\u001B[1;32m   1316\u001B[0m     \u001B[38;5;28mself\u001B[39m\u001B[38;5;241m.\u001B[39mcommand_header \u001B[38;5;241m+\u001B[39m\\\n",
       "\u001B[1;32m   1317\u001B[0m     args_command \u001B[38;5;241m+\u001B[39m\\\n",
       "\u001B[1;32m   1318\u001B[0m     proto\u001B[38;5;241m.\u001B[39mEND_COMMAND_PART\n",
       "\u001B[1;32m   1320\u001B[0m answer \u001B[38;5;241m=\u001B[39m \u001B[38;5;28mself\u001B[39m\u001B[38;5;241m.\u001B[39mgateway_client\u001B[38;5;241m.\u001B[39msend_command(command)\n",
       "\u001B[0;32m-> 1321\u001B[0m return_value \u001B[38;5;241m=\u001B[39m \u001B[43mget_return_value\u001B[49m\u001B[43m(\u001B[49m\n",
       "\u001B[1;32m   1322\u001B[0m \u001B[43m    \u001B[49m\u001B[43manswer\u001B[49m\u001B[43m,\u001B[49m\u001B[43m \u001B[49m\u001B[38;5;28;43mself\u001B[39;49m\u001B[38;5;241;43m.\u001B[39;49m\u001B[43mgateway_client\u001B[49m\u001B[43m,\u001B[49m\u001B[43m \u001B[49m\u001B[38;5;28;43mself\u001B[39;49m\u001B[38;5;241;43m.\u001B[39;49m\u001B[43mtarget_id\u001B[49m\u001B[43m,\u001B[49m\u001B[43m \u001B[49m\u001B[38;5;28;43mself\u001B[39;49m\u001B[38;5;241;43m.\u001B[39;49m\u001B[43mname\u001B[49m\u001B[43m)\u001B[49m\n",
       "\u001B[1;32m   1324\u001B[0m \u001B[38;5;28;01mfor\u001B[39;00m temp_arg \u001B[38;5;129;01min\u001B[39;00m temp_args:\n",
       "\u001B[1;32m   1325\u001B[0m     temp_arg\u001B[38;5;241m.\u001B[39m_detach()\n",
       "\n",
       "File \u001B[0;32m/databricks/spark/python/pyspark/errors/exceptions.py:234\u001B[0m, in \u001B[0;36mcapture_sql_exception.<locals>.deco\u001B[0;34m(*a, **kw)\u001B[0m\n",
       "\u001B[1;32m    230\u001B[0m converted \u001B[38;5;241m=\u001B[39m convert_exception(e\u001B[38;5;241m.\u001B[39mjava_exception)\n",
       "\u001B[1;32m    231\u001B[0m \u001B[38;5;28;01mif\u001B[39;00m \u001B[38;5;129;01mnot\u001B[39;00m \u001B[38;5;28misinstance\u001B[39m(converted, UnknownException):\n",
       "\u001B[1;32m    232\u001B[0m     \u001B[38;5;66;03m# Hide where the exception came from that shows a non-Pythonic\u001B[39;00m\n",
       "\u001B[1;32m    233\u001B[0m     \u001B[38;5;66;03m# JVM exception message.\u001B[39;00m\n",
       "\u001B[0;32m--> 234\u001B[0m     \u001B[38;5;28;01mraise\u001B[39;00m converted \u001B[38;5;28;01mfrom\u001B[39;00m \u001B[38;5;28mNone\u001B[39m\n",
       "\u001B[1;32m    235\u001B[0m \u001B[38;5;28;01melse\u001B[39;00m:\n",
       "\u001B[1;32m    236\u001B[0m     \u001B[38;5;28;01mraise\u001B[39;00m\n",
       "\n",
       "\u001B[0;31mAnalysisException\u001B[0m: Path dbfs:/FileStore/tables/investimento_educacao_final already exists."
      ]
     },
     "metadata": {
      "application/vnd.databricks.v1+output": {
       "arguments": {},
       "data": "\u001B[0;31m---------------------------------------------------------------------------\u001B[0m\n\u001B[0;31mAnalysisException\u001B[0m                         Traceback (most recent call last)\nFile \u001B[0;32m<command-1255994709476151>:1\u001B[0m\n\u001B[0;32m----> 1\u001B[0m \u001B[43mdf\u001B[49m\u001B[38;5;241;43m.\u001B[39;49m\u001B[43morderBy\u001B[49m\u001B[43m(\u001B[49m\u001B[38;5;124;43m\"\u001B[39;49m\u001B[38;5;124;43mAno\u001B[39;49m\u001B[38;5;124;43m\"\u001B[39;49m\u001B[43m)\u001B[49m\u001B[38;5;241;43m.\u001B[39;49m\u001B[43mcoalesce\u001B[49m\u001B[43m(\u001B[49m\u001B[38;5;241;43m1\u001B[39;49m\u001B[43m)\u001B[49m\u001B[38;5;241;43m.\u001B[39;49m\u001B[43mwrite\u001B[49m\u001B[38;5;241;43m.\u001B[39;49m\u001B[43moption\u001B[49m\u001B[43m(\u001B[49m\u001B[38;5;124;43m\"\u001B[39;49m\u001B[38;5;124;43mheader\u001B[39;49m\u001B[38;5;124;43m\"\u001B[39;49m\u001B[43m,\u001B[49m\u001B[43m \u001B[49m\u001B[38;5;124;43m\"\u001B[39;49m\u001B[38;5;124;43mtrue\u001B[39;49m\u001B[38;5;124;43m\"\u001B[39;49m\u001B[43m)\u001B[49m\u001B[38;5;241;43m.\u001B[39;49m\u001B[43mcsv\u001B[49m\u001B[43m(\u001B[49m\u001B[38;5;124;43m\"\u001B[39;49m\u001B[38;5;124;43m/FileStore/tables/investimento_educacao_final\u001B[39;49m\u001B[38;5;124;43m\"\u001B[39;49m\u001B[43m)\u001B[49m\n\nFile \u001B[0;32m/databricks/spark/python/pyspark/instrumentation_utils.py:48\u001B[0m, in \u001B[0;36m_wrap_function.<locals>.wrapper\u001B[0;34m(*args, **kwargs)\u001B[0m\n\u001B[1;32m     46\u001B[0m start \u001B[38;5;241m=\u001B[39m time\u001B[38;5;241m.\u001B[39mperf_counter()\n\u001B[1;32m     47\u001B[0m \u001B[38;5;28;01mtry\u001B[39;00m:\n\u001B[0;32m---> 48\u001B[0m     res \u001B[38;5;241m=\u001B[39m \u001B[43mfunc\u001B[49m\u001B[43m(\u001B[49m\u001B[38;5;241;43m*\u001B[39;49m\u001B[43margs\u001B[49m\u001B[43m,\u001B[49m\u001B[43m \u001B[49m\u001B[38;5;241;43m*\u001B[39;49m\u001B[38;5;241;43m*\u001B[39;49m\u001B[43mkwargs\u001B[49m\u001B[43m)\u001B[49m\n\u001B[1;32m     49\u001B[0m     logger\u001B[38;5;241m.\u001B[39mlog_success(\n\u001B[1;32m     50\u001B[0m         module_name, class_name, function_name, time\u001B[38;5;241m.\u001B[39mperf_counter() \u001B[38;5;241m-\u001B[39m start, signature\n\u001B[1;32m     51\u001B[0m     )\n\u001B[1;32m     52\u001B[0m     \u001B[38;5;28;01mreturn\u001B[39;00m res\n\nFile \u001B[0;32m/databricks/spark/python/pyspark/sql/readwriter.py:1798\u001B[0m, in \u001B[0;36mDataFrameWriter.csv\u001B[0;34m(self, path, mode, compression, sep, quote, escape, header, nullValue, escapeQuotes, quoteAll, dateFormat, timestampFormat, ignoreLeadingWhiteSpace, ignoreTrailingWhiteSpace, charToEscapeQuoteEscaping, encoding, emptyValue, lineSep)\u001B[0m\n\u001B[1;32m   1779\u001B[0m \u001B[38;5;28mself\u001B[39m\u001B[38;5;241m.\u001B[39mmode(mode)\n\u001B[1;32m   1780\u001B[0m \u001B[38;5;28mself\u001B[39m\u001B[38;5;241m.\u001B[39m_set_opts(\n\u001B[1;32m   1781\u001B[0m     compression\u001B[38;5;241m=\u001B[39mcompression,\n\u001B[1;32m   1782\u001B[0m     sep\u001B[38;5;241m=\u001B[39msep,\n\u001B[0;32m   (...)\u001B[0m\n\u001B[1;32m   1796\u001B[0m     lineSep\u001B[38;5;241m=\u001B[39mlineSep,\n\u001B[1;32m   1797\u001B[0m )\n\u001B[0;32m-> 1798\u001B[0m \u001B[38;5;28;43mself\u001B[39;49m\u001B[38;5;241;43m.\u001B[39;49m\u001B[43m_jwrite\u001B[49m\u001B[38;5;241;43m.\u001B[39;49m\u001B[43mcsv\u001B[49m\u001B[43m(\u001B[49m\u001B[43mpath\u001B[49m\u001B[43m)\u001B[49m\n\nFile \u001B[0;32m/databricks/spark/python/lib/py4j-0.10.9.5-src.zip/py4j/java_gateway.py:1321\u001B[0m, in \u001B[0;36mJavaMember.__call__\u001B[0;34m(self, *args)\u001B[0m\n\u001B[1;32m   1315\u001B[0m command \u001B[38;5;241m=\u001B[39m proto\u001B[38;5;241m.\u001B[39mCALL_COMMAND_NAME \u001B[38;5;241m+\u001B[39m\\\n\u001B[1;32m   1316\u001B[0m     \u001B[38;5;28mself\u001B[39m\u001B[38;5;241m.\u001B[39mcommand_header \u001B[38;5;241m+\u001B[39m\\\n\u001B[1;32m   1317\u001B[0m     args_command \u001B[38;5;241m+\u001B[39m\\\n\u001B[1;32m   1318\u001B[0m     proto\u001B[38;5;241m.\u001B[39mEND_COMMAND_PART\n\u001B[1;32m   1320\u001B[0m answer \u001B[38;5;241m=\u001B[39m \u001B[38;5;28mself\u001B[39m\u001B[38;5;241m.\u001B[39mgateway_client\u001B[38;5;241m.\u001B[39msend_command(command)\n\u001B[0;32m-> 1321\u001B[0m return_value \u001B[38;5;241m=\u001B[39m \u001B[43mget_return_value\u001B[49m\u001B[43m(\u001B[49m\n\u001B[1;32m   1322\u001B[0m \u001B[43m    \u001B[49m\u001B[43manswer\u001B[49m\u001B[43m,\u001B[49m\u001B[43m \u001B[49m\u001B[38;5;28;43mself\u001B[39;49m\u001B[38;5;241;43m.\u001B[39;49m\u001B[43mgateway_client\u001B[49m\u001B[43m,\u001B[49m\u001B[43m \u001B[49m\u001B[38;5;28;43mself\u001B[39;49m\u001B[38;5;241;43m.\u001B[39;49m\u001B[43mtarget_id\u001B[49m\u001B[43m,\u001B[49m\u001B[43m \u001B[49m\u001B[38;5;28;43mself\u001B[39;49m\u001B[38;5;241;43m.\u001B[39;49m\u001B[43mname\u001B[49m\u001B[43m)\u001B[49m\n\u001B[1;32m   1324\u001B[0m \u001B[38;5;28;01mfor\u001B[39;00m temp_arg \u001B[38;5;129;01min\u001B[39;00m temp_args:\n\u001B[1;32m   1325\u001B[0m     temp_arg\u001B[38;5;241m.\u001B[39m_detach()\n\nFile \u001B[0;32m/databricks/spark/python/pyspark/errors/exceptions.py:234\u001B[0m, in \u001B[0;36mcapture_sql_exception.<locals>.deco\u001B[0;34m(*a, **kw)\u001B[0m\n\u001B[1;32m    230\u001B[0m converted \u001B[38;5;241m=\u001B[39m convert_exception(e\u001B[38;5;241m.\u001B[39mjava_exception)\n\u001B[1;32m    231\u001B[0m \u001B[38;5;28;01mif\u001B[39;00m \u001B[38;5;129;01mnot\u001B[39;00m \u001B[38;5;28misinstance\u001B[39m(converted, UnknownException):\n\u001B[1;32m    232\u001B[0m     \u001B[38;5;66;03m# Hide where the exception came from that shows a non-Pythonic\u001B[39;00m\n\u001B[1;32m    233\u001B[0m     \u001B[38;5;66;03m# JVM exception message.\u001B[39;00m\n\u001B[0;32m--> 234\u001B[0m     \u001B[38;5;28;01mraise\u001B[39;00m converted \u001B[38;5;28;01mfrom\u001B[39;00m \u001B[38;5;28mNone\u001B[39m\n\u001B[1;32m    235\u001B[0m \u001B[38;5;28;01melse\u001B[39;00m:\n\u001B[1;32m    236\u001B[0m     \u001B[38;5;28;01mraise\u001B[39;00m\n\n\u001B[0;31mAnalysisException\u001B[0m: Path dbfs:/FileStore/tables/investimento_educacao_final already exists.",
       "errorSummary": "<span class='ansi-red-fg'>AnalysisException</span>: Path dbfs:/FileStore/tables/investimento_educacao_final already exists.",
       "errorTraceType": "ansi",
       "metadata": {},
       "type": "ipynbError"
      }
     },
     "output_type": "display_data"
    }
   ],
   "source": [
    "df.orderBy(\"Ano\").coalesce(1).write.option(\"header\", \"true\").csv(\"/FileStore/tables/investimento_educacao_final\")\n"
   ]
  }
 ],
 "metadata": {
  "application/vnd.databricks.v1+notebook": {
   "computePreferences": null,
   "dashboards": [],
   "environmentMetadata": null,
   "inputWidgetPreferences": null,
   "language": "python",
   "notebookMetadata": {
    "mostRecentlyExecutedCommandWithImplicitDF": {
     "commandId": 1255994709476140,
     "dataframes": [
      "_sqldf"
     ]
    },
    "pythonIndentUnit": 4
   },
   "notebookName": "projeto",
   "widgets": {}
  }
 },
 "nbformat": 4,
 "nbformat_minor": 0
}